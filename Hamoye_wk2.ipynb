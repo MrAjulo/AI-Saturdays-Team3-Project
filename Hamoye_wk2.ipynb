{
  "nbformat": 4,
  "nbformat_minor": 0,
  "metadata": {
    "colab": {
      "name": "Hamoye wk2.ipynb",
      "provenance": [],
      "collapsed_sections": [],
      "authorship_tag": "ABX9TyMq2BKb9d5CxMvOScfjyoFh",
      "include_colab_link": true
    },
    "kernelspec": {
      "name": "python3",
      "display_name": "Python 3"
    }
  },
  "cells": [
    {
      "cell_type": "markdown",
      "metadata": {
        "id": "view-in-github",
        "colab_type": "text"
      },
      "source": [
        "<a href=\"https://colab.research.google.com/github/MrAjulo/AI-Saturdays-Team3-Project/blob/master/Hamoye_wk2.ipynb\" target=\"_parent\"><img src=\"https://colab.research.google.com/assets/colab-badge.svg\" alt=\"Open In Colab\"/></a>"
      ]
    },
    {
      "cell_type": "code",
      "metadata": {
        "id": "TAn3WZX2eDF2",
        "colab_type": "code",
        "colab": {}
      },
      "source": [
        "df=pd.read_excel('https://archive.ics.uci.edu/ml/machine-learning-databases/00242/ENB2012_data.xlsx')"
      ],
      "execution_count": 4,
      "outputs": []
    },
    {
      "cell_type": "code",
      "metadata": {
        "id": "k1HnhupWeYqN",
        "colab_type": "code",
        "colab": {
          "base_uri": "https://localhost:8080/",
          "height": 71
        },
        "outputId": "6f9e8cd3-2d54-4047-c5bc-ae928db9174d"
      },
      "source": [
        "import pandas as pd\n",
        "import numpy as np\n",
        "import seaborn as sns"
      ],
      "execution_count": 9,
      "outputs": [
        {
          "output_type": "stream",
          "text": [
            "/usr/local/lib/python3.6/dist-packages/statsmodels/tools/_testing.py:19: FutureWarning: pandas.util.testing is deprecated. Use the functions in the public API at pandas.testing instead.\n",
            "  import pandas.util.testing as tm\n"
          ],
          "name": "stderr"
        }
      ]
    },
    {
      "cell_type": "code",
      "metadata": {
        "id": "ME4tJJjFeOcR",
        "colab_type": "code",
        "colab": {}
      },
      "source": [
        "column_names = {'X1':'Relative_Compactness', 'X2': 'Surface_Area', \n",
        "                'X3':  'Wall_Area', 'X4': 'Roof_Area', 'X5': 'Overall_Height',\n",
        "                'X6': 'Orientation', 'X7': 'Glazing_Area', \n",
        "                'X8': 'Glazing_Area_Distribution', \n",
        "                'Y1': 'Heating_Load', 'Y2': 'Cooling_Load'}\n"
      ],
      "execution_count": 6,
      "outputs": []
    },
    {
      "cell_type": "code",
      "metadata": {
        "id": "VhF-allWelJq",
        "colab_type": "code",
        "colab": {}
      },
      "source": [
        "df = df.rename(columns=column_names)"
      ],
      "execution_count": 7,
      "outputs": []
    },
    {
      "cell_type": "code",
      "metadata": {
        "id": "oCMdko5RexP_",
        "colab_type": "code",
        "colab": {}
      },
      "source": [
        "simple_linear_reg_df = df[['Relative_Compactness', 'Cooling_Load']].sample(15, random_state=2)\n"
      ],
      "execution_count": 8,
      "outputs": []
    },
    {
      "cell_type": "code",
      "metadata": {
        "id": "e8Qg3pfVe5EY",
        "colab_type": "code",
        "colab": {
          "base_uri": "https://localhost:8080/",
          "height": 297
        },
        "outputId": "2555bc64-8744-45fa-b1d3-efa872d70657"
      },
      "source": [
        "sns.regplot(x=\"Relative_Compactness\", y=\"Cooling_Load\", data=simple_linear_reg_df)"
      ],
      "execution_count": 10,
      "outputs": [
        {
          "output_type": "execute_result",
          "data": {
            "text/plain": [
              "<matplotlib.axes._subplots.AxesSubplot at 0x7f83e7018cf8>"
            ]
          },
          "metadata": {
            "tags": []
          },
          "execution_count": 10
        },
        {
          "output_type": "display_data",
          "data": {
            "image/png": "[encoded data removed]",
            "text/plain": [
              "<Figure size 432x288 with 1 Axes>"
            ]
          },
          "metadata": {
            "tags": [],
            "needs_background": "light"
          }
        }
      ]
    },
    {
      "cell_type": "code",
      "metadata": {
        "id": "tCnPQjLvfOsx",
        "colab_type": "code",
        "colab": {}
      },
      "source": [
        "from sklearn.preprocessing import MinMaxScaler\n",
        "scaler = MinMaxScaler()\n"
      ],
      "execution_count": 11,
      "outputs": []
    },
    {
      "cell_type": "code",
      "metadata": {
        "id": "cbOzcrShgrM3",
        "colab_type": "code",
        "colab": {}
      },
      "source": [
        "normalised_df = pd.DataFrame(scaler.fit_transform(df), columns=df.columns)\n"
      ],
      "execution_count": 12,
      "outputs": []
    },
    {
      "cell_type": "code",
      "metadata": {
        "id": "BQ2z65uGgzuB",
        "colab_type": "code",
        "colab": {}
      },
      "source": [
        "features_df = normalised_df.drop(columns=['Heating_Load', 'Cooling_Load'])\n",
        "heating_target = normalised_df['Heating_Load']"
      ],
      "execution_count": 13,
      "outputs": []
    },
    {
      "cell_type": "code",
      "metadata": {
        "id": "q0iFPtMug-gt",
        "colab_type": "code",
        "colab": {}
      },
      "source": [
        "#Now, we split our dataset into the training and testing dataset. Recall that we had earlier segmented the features and target variables.\n",
        "from sklearn.model_selection import train_test_split\n",
        "x_train, x_test, y_train, y_test = train_test_split(features_df, heating_target, test_size=0.3, random_state=1)"
      ],
      "execution_count": 14,
      "outputs": []
    },
    {
      "cell_type": "code",
      "metadata": {
        "id": "xt-5Ow_BiDEo",
        "colab_type": "code",
        "colab": {}
      },
      "source": [
        "from sklearn.linear_model import LinearRegression"
      ],
      "execution_count": 16,
      "outputs": []
    },
    {
      "cell_type": "code",
      "metadata": {
        "id": "B2uufcHGhqUP",
        "colab_type": "code",
        "colab": {}
      },
      "source": [
        "linear_model = LinearRegression()\n",
        "#fit the model to the training dataset\n",
        "linear_model.fit(x_train, y_train)\n",
        "#obtain predictions\n",
        "predicted_values = linear_model.predict(x_test)\n"
      ],
      "execution_count": 17,
      "outputs": []
    },
    {
      "cell_type": "code",
      "metadata": {
        "id": "MUbD7Ek2is-I",
        "colab_type": "code",
        "colab": {
          "base_uri": "https://localhost:8080/",
          "height": 34
        },
        "outputId": "52ce1293-2502-4bcf-ee61-da789cf1a30f"
      },
      "source": [
        "#MAE\n",
        "from sklearn.metrics import mean_absolute_error\n",
        "mae = mean_absolute_error(y_test, predicted_values)\n",
        "round(mae, 3) \t#prints 0.063"
      ],
      "execution_count": 18,
      "outputs": [
        {
          "output_type": "execute_result",
          "data": {
            "text/plain": [
              "0.063"
            ]
          },
          "metadata": {
            "tags": []
          },
          "execution_count": 18
        }
      ]
    },
    {
      "cell_type": "code",
      "metadata": {
        "id": "sFGXEctPjlEc",
        "colab_type": "code",
        "colab": {
          "base_uri": "https://localhost:8080/",
          "height": 34
        },
        "outputId": "a8db4edb-a2c9-4d71-cc62-872c0bb816ab"
      },
      "source": [
        "#import numpy as np\n",
        "rss = np.sum(np.square(y_test - predicted_values))\n",
        "round(rss, 3)\t"
      ],
      "execution_count": 19,
      "outputs": [
        {
          "output_type": "execute_result",
          "data": {
            "text/plain": [
              "1.823"
            ]
          },
          "metadata": {
            "tags": []
          },
          "execution_count": 19
        }
      ]
    },
    {
      "cell_type": "code",
      "metadata": {
        "id": "fYMN7fb0jrLC",
        "colab_type": "code",
        "colab": {}
      },
      "source": [
        "#comparing the effects of regularisation\n",
        "def get_weights_df(model, feat, col_name):\n",
        "  #this function returns the weight of every feature\n",
        "  weights = pd.Series(model.coef_, feat.columns).sort_values()\n",
        "  weights_df = pd.DataFrame(weights).reset_index()\n",
        "  weights_df.columns = ['Features', col_name]\n",
        "  weights_df[col_name].round(3)\n",
        "  return weights_df"
      ],
      "execution_count": 20,
      "outputs": []
    },
    {
      "cell_type": "code",
      "metadata": {
        "id": "pZj3gD59l6l7",
        "colab_type": "code",
        "colab": {}
      },
      "source": [
        "linear_model_weights = get_weights_df(linear_model, x_train, 'Linear_Model_Weight')\n",
        "ridge_weights_df = get_weights_df(ridge_reg, x_train, 'Ridge_Weight')\n",
        "lasso_weights_df = get_weights_df(lasso_reg, x_train, 'Lasso_weight')\n",
        "\n",
        "final_weights = pd.merge(linear_model_weights, ridge_weights_df, on='Features')\n",
        "final_weights = pd.merge(final_weights, lasso_weights_df, on='Features')"
      ],
      "execution_count": 25,
      "outputs": []
    },
    {
      "cell_type": "code",
      "metadata": {
        "id": "7T4qhIUCmBe_",
        "colab_type": "code",
        "colab": {
          "base_uri": "https://localhost:8080/",
          "height": 68
        },
        "outputId": "9ff58a6e-3291-49c0-85b5-bdf6ee244feb"
      },
      "source": [
        "from sklearn.linear_model import Lasso\n",
        "lasso_reg = Lasso(alpha=0.001)\n",
        "lasso_reg.fit(x_train, y_train)"
      ],
      "execution_count": 23,
      "outputs": [
        {
          "output_type": "execute_result",
          "data": {
            "text/plain": [
              "Lasso(alpha=0.001, copy_X=True, fit_intercept=True, max_iter=1000,\n",
              "      normalize=False, positive=False, precompute=False, random_state=None,\n",
              "      selection='cyclic', tol=0.0001, warm_start=False)"
            ]
          },
          "metadata": {
            "tags": []
          },
          "execution_count": 23
        }
      ]
    },
    {
      "cell_type": "code",
      "metadata": {
        "id": "J8TDYfTKzt1A",
        "colab_type": "code",
        "colab": {
          "base_uri": "https://localhost:8080/",
          "height": 51
        },
        "outputId": "d2926718-3189-456c-a150-5b79ab58bc3f"
      },
      "source": [
        "from sklearn.linear_model import Ridge\n",
        "ridge_reg = Ridge(alpha=0.5)\n",
        "ridge_reg.fit(x_train, y_train)"
      ],
      "execution_count": 24,
      "outputs": [
        {
          "output_type": "execute_result",
          "data": {
            "text/plain": [
              "Ridge(alpha=0.5, copy_X=True, fit_intercept=True, max_iter=None,\n",
              "      normalize=False, random_state=None, solver='auto', tol=0.001)"
            ]
          },
          "metadata": {
            "tags": []
          },
          "execution_count": 24
        }
      ]
    },
    {
      "cell_type": "code",
      "metadata": {
        "id": "1JpiyMN9zxv4",
        "colab_type": "code",
        "colab": {
          "base_uri": "https://localhost:8080/",
          "height": 297
        },
        "outputId": "153bde87-6b22-40d8-9636-08db75f09987"
      },
      "source": [
        "final_weights"
      ],
      "execution_count": 26,
      "outputs": [
        {
          "output_type": "execute_result",
          "data": {
            "text/html": [
              "<div>\n",
              "<style scoped>\n",
              "    .dataframe tbody tr th:only-of-type {\n",
              "        vertical-align: middle;\n",
              "    }\n",
              "\n",
              "    .dataframe tbody tr th {\n",
              "        vertical-align: top;\n",
              "    }\n",
              "\n",
              "    .dataframe thead th {\n",
              "        text-align: right;\n",
              "    }\n",
              "</style>\n",
              "<table border=\"1\" class=\"dataframe\">\n",
              "  <thead>\n",
              "    <tr style=\"text-align: right;\">\n",
              "      <th></th>\n",
              "      <th>Features</th>\n",
              "      <th>Linear_Model_Weight</th>\n",
              "      <th>Ridge_Weight</th>\n",
              "      <th>Lasso_weight</th>\n",
              "    </tr>\n",
              "  </thead>\n",
              "  <tbody>\n",
              "    <tr>\n",
              "      <th>0</th>\n",
              "      <td>Surface_Area</td>\n",
              "      <td>-6.387091e+12</td>\n",
              "      <td>-0.062275</td>\n",
              "      <td>0.000000</td>\n",
              "    </tr>\n",
              "    <tr>\n",
              "      <th>1</th>\n",
              "      <td>Relative_Compactness</td>\n",
              "      <td>-6.064125e-01</td>\n",
              "      <td>-0.283471</td>\n",
              "      <td>-0.027719</td>\n",
              "    </tr>\n",
              "    <tr>\n",
              "      <th>2</th>\n",
              "      <td>Orientation</td>\n",
              "      <td>-2.822876e-03</td>\n",
              "      <td>0.003369</td>\n",
              "      <td>0.000000</td>\n",
              "    </tr>\n",
              "    <tr>\n",
              "      <th>3</th>\n",
              "      <td>Glazing_Area_Distribution</td>\n",
              "      <td>1.913548e-02</td>\n",
              "      <td>0.029088</td>\n",
              "      <td>0.021431</td>\n",
              "    </tr>\n",
              "    <tr>\n",
              "      <th>4</th>\n",
              "      <td>Glazing_Area</td>\n",
              "      <td>2.295933e-01</td>\n",
              "      <td>0.212449</td>\n",
              "      <td>0.206132</td>\n",
              "    </tr>\n",
              "    <tr>\n",
              "      <th>5</th>\n",
              "      <td>Overall_Height</td>\n",
              "      <td>3.852539e-01</td>\n",
              "      <td>0.442467</td>\n",
              "      <td>0.463482</td>\n",
              "    </tr>\n",
              "    <tr>\n",
              "      <th>6</th>\n",
              "      <td>Wall_Area</td>\n",
              "      <td>3.725803e+12</td>\n",
              "      <td>0.103061</td>\n",
              "      <td>0.200087</td>\n",
              "    </tr>\n",
              "    <tr>\n",
              "      <th>7</th>\n",
              "      <td>Roof_Area</td>\n",
              "      <td>4.790318e+12</td>\n",
              "      <td>-0.163192</td>\n",
              "      <td>-0.000000</td>\n",
              "    </tr>\n",
              "  </tbody>\n",
              "</table>\n",
              "</div>"
            ],
            "text/plain": [
              "                    Features  Linear_Model_Weight  Ridge_Weight  Lasso_weight\n",
              "0               Surface_Area        -6.387091e+12     -0.062275      0.000000\n",
              "1       Relative_Compactness        -6.064125e-01     -0.283471     -0.027719\n",
              "2                Orientation        -2.822876e-03      0.003369      0.000000\n",
              "3  Glazing_Area_Distribution         1.913548e-02      0.029088      0.021431\n",
              "4               Glazing_Area         2.295933e-01      0.212449      0.206132\n",
              "5             Overall_Height         3.852539e-01      0.442467      0.463482\n",
              "6                  Wall_Area         3.725803e+12      0.103061      0.200087\n",
              "7                  Roof_Area         4.790318e+12     -0.163192     -0.000000"
            ]
          },
          "metadata": {
            "tags": []
          },
          "execution_count": 26
        }
      ]
    },
    {
      "cell_type": "code",
      "metadata": {
        "id": "5ZPuJM-ez7pw",
        "colab_type": "code",
        "colab": {}
      },
      "source": [
        ""
      ],
      "execution_count": null,
      "outputs": []
    }
  ]
}